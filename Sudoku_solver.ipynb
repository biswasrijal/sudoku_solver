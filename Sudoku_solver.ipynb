{
 "cells": [
  {
   "cell_type": "code",
   "execution_count": 314,
   "id": "24006995",
   "metadata": {},
   "outputs": [],
   "source": [
    "import numpy as np\n",
    "sudoku = [[\"5\",\"3\",\".\",\".\",\"7\",\".\",\".\",\".\",\".\"],[\"6\",\".\",\".\",\"1\",\"9\",\"5\",\".\",\".\",\".\"],[\".\",\"9\",\"8\",\".\",\".\",\".\",\".\",\"6\",\".\"],[\"8\",\".\",\".\",\".\",\"6\",\".\",\".\",\".\",\"3\"],[\"4\",\".\",\".\",\"8\",\".\",\"3\",\".\",\".\",\"1\"],[\"7\",\".\",\".\",\".\",\"2\",\".\",\".\",\".\",\"6\"],[\".\",\"6\",\".\",\".\",\".\",\".\",\"2\",\"8\",\".\"],[\".\",\".\",\".\",\"4\",\"1\",\"9\",\".\",\".\",\"5\"],[\".\",\".\",\".\",\".\",\"8\",\".\",\".\",\"7\",\"9\"]]"
   ]
  },
  {
   "cell_type": "code",
   "execution_count": 315,
   "id": "e4034671",
   "metadata": {},
   "outputs": [],
   "source": [
    "board=np.array(sudoku)"
   ]
  },
  {
   "cell_type": "code",
   "execution_count": 439,
   "id": "5180105b",
   "metadata": {},
   "outputs": [],
   "source": [
    "import numpy as np\n",
    "def rc_possible(matrix,cell,in_square):\n",
    "    numbers = np.arange(1,10)\n",
    "    row=[]\n",
    "    column=[]\n",
    "    square=[]\n",
    "    for x in numbers:\n",
    "        if str(x) not in matrix[cell[0]]:\n",
    "            row.append(x)\n",
    " \n",
    "        if str(x) not in matrix[:,cell[1]]:\n",
    "            column.append(x)\n",
    "  \n",
    "        if str(x) not in in_square:\n",
    "            square.append(x)\n",
    "    return row,column,square\n",
    "\n",
    "def in_square(dicti,cell):\n",
    "    if cell[0]>=0 and cell[0]<=2 and cell[1]>=0 and cell[1]<=2:\n",
    "        return dicti['0']\n",
    "    if cell[0]>=0 and cell[0]<=2 and cell[1]>=2 and cell[1]<=5:\n",
    "        return dicti['1']\n",
    "    if cell[0]>=0 and cell[0]<=2 and cell[1]>=5 and cell[1]<=8:\n",
    "        return dicti['2']\n",
    "    if cell[0]>=3 and cell[0]<=5 and cell[1]>=0 and cell[1]<=2:\n",
    "        return dicti['3']\n",
    "    if cell[0]>=3 and cell[0]<=5 and cell[1]>=2 and cell[1]<=5:\n",
    "        return dicti['4']\n",
    "    if cell[0]>=3 and cell[0]<=5 and cell[1]>=5 and cell[1]<=8:\n",
    "        return dicti['5']\n",
    "    if cell[0]>=6 and cell[0]<=8 and cell[1]>=0 and cell[1]<=2:\n",
    "        return dicti['6']\n",
    "    if cell[0]>=6 and cell[0]<=8 and cell[1]>=2 and cell[1]<=5:\n",
    "        return dicti['7']\n",
    "    if cell[0]>=6 and cell[0]<=8 and cell[1]>=5 and cell[1]<=8:\n",
    "        return dicti['8']\n",
    "\n",
    "def possible(row,column,square):\n",
    "    possible=[]\n",
    "    for x in row:\n",
    "        if x in column and x in square:\n",
    "            possible.append(x)\n",
    "    return possible\n",
    "\n",
    "def squares(matrix):\n",
    "    dicti = {}\n",
    "    dicti['0']=matrix[0:3,0:3]\n",
    "    dicti['1']=matrix[0:3,3:6]\n",
    "    dicti['2']=matrix[0:3,6:9]\n",
    "    dicti['3']=matrix[3:6,0:3]\n",
    "    dicti['4']=matrix[3:6,3:6]\n",
    "    dicti['5']=matrix[3:6,6:9]\n",
    "    dicti['6']=matrix[6:9,0:3]\n",
    "    dicti['7']=matrix[6:9,3:6]\n",
    "    dicti['8']=matrix[6:9,6:9]\n",
    "    return dicti\n",
    "\n",
    "def possible_matrix(board):\n",
    "    possible_ = [[[] for _ in range(len(board))] for _ in range(len(board))]\n",
    "    square_ = squares(board)\n",
    "    for i in range(len(board)):\n",
    "        for j in range(len(board)):\n",
    "            i = int(i)\n",
    "            j = int(j)\n",
    "            if board[i][j]=='.':\n",
    "                in_square_ = in_square(square_,[i,j])\n",
    "                row,column,square = rc_possible(board,[i,j],in_square_)\n",
    "                possible_[i][j]=possible(row,column,square)\n",
    "    return possible_\n",
    "\n",
    "def add_values(board,possible_matrix):\n",
    "    for i in range(9):\n",
    "        for j in range(9):\n",
    "            if len(possible_matrix[i][j])==1:\n",
    "                board[i][j] = possible_matrix[i][j][0]\n",
    "                \n",
    "def sudoku_solver(input_board):\n",
    "    new_board = np.copy(input_board)\n",
    "    while '.' in new_board:\n",
    "        p=possible_matrix(new_board)\n",
    "        add_values(new_board,p)\n",
    "    print(\"Input:\\n\",input_board)\n",
    "    print(\"\\nSolved:\\n\",new_board)"
   ]
  },
  {
   "cell_type": "code",
   "execution_count": 440,
   "id": "d718d103",
   "metadata": {},
   "outputs": [],
   "source": [
    "sudoku = [[\"5\",\"3\",\".\",\".\",\"7\",\".\",\".\",\".\",\".\"],[\"6\",\".\",\".\",\"1\",\"9\",\"5\",\".\",\".\",\".\"],[\".\",\"9\",\"8\",\".\",\".\",\".\",\".\",\"6\",\".\"],[\"8\",\".\",\".\",\".\",\"6\",\".\",\".\",\".\",\"3\"],[\"4\",\".\",\".\",\"8\",\".\",\"3\",\".\",\".\",\"1\"],[\"7\",\".\",\".\",\".\",\"2\",\".\",\".\",\".\",\"6\"],[\".\",\"6\",\".\",\".\",\".\",\".\",\"2\",\"8\",\".\"],[\".\",\".\",\".\",\"4\",\"1\",\"9\",\".\",\".\",\"5\"],[\".\",\".\",\".\",\".\",\"8\",\".\",\".\",\"7\",\"9\"]]\n",
    "board=np.array(sudoku)\n"
   ]
  },
  {
   "cell_type": "code",
   "execution_count": 441,
   "id": "49add052",
   "metadata": {},
   "outputs": [
    {
     "data": {
      "text/plain": [
       "array([['5', '3', '.', '.', '7', '.', '.', '.', '.'],\n",
       "       ['6', '.', '.', '1', '9', '5', '.', '.', '.'],\n",
       "       ['.', '9', '8', '.', '.', '.', '.', '6', '.'],\n",
       "       ['8', '.', '.', '.', '6', '.', '.', '.', '3'],\n",
       "       ['4', '.', '.', '8', '.', '3', '.', '.', '1'],\n",
       "       ['7', '.', '.', '.', '2', '.', '.', '.', '6'],\n",
       "       ['.', '6', '.', '.', '.', '.', '2', '8', '.'],\n",
       "       ['.', '.', '.', '4', '1', '9', '.', '.', '5'],\n",
       "       ['.', '.', '.', '.', '8', '.', '.', '7', '9']], dtype='<U1')"
      ]
     },
     "execution_count": 441,
     "metadata": {},
     "output_type": "execute_result"
    }
   ],
   "source": [
    "board"
   ]
  },
  {
   "cell_type": "code",
   "execution_count": 442,
   "id": "2aac7178",
   "metadata": {},
   "outputs": [
    {
     "name": "stdout",
     "output_type": "stream",
     "text": [
      "Input:\n",
      " [['5' '3' '.' '.' '7' '.' '.' '.' '.']\n",
      " ['6' '.' '.' '1' '9' '5' '.' '.' '.']\n",
      " ['.' '9' '8' '.' '.' '.' '.' '6' '.']\n",
      " ['8' '.' '.' '.' '6' '.' '.' '.' '3']\n",
      " ['4' '.' '.' '8' '.' '3' '.' '.' '1']\n",
      " ['7' '.' '.' '.' '2' '.' '.' '.' '6']\n",
      " ['.' '6' '.' '.' '.' '.' '2' '8' '.']\n",
      " ['.' '.' '.' '4' '1' '9' '.' '.' '5']\n",
      " ['.' '.' '.' '.' '8' '.' '.' '7' '9']]\n",
      "\n",
      "Solved:\n",
      " [['5' '3' '4' '6' '7' '8' '9' '1' '2']\n",
      " ['6' '7' '2' '1' '9' '5' '3' '4' '8']\n",
      " ['1' '9' '8' '3' '4' '2' '5' '6' '7']\n",
      " ['8' '5' '9' '7' '6' '1' '4' '2' '3']\n",
      " ['4' '2' '6' '8' '5' '3' '7' '9' '1']\n",
      " ['7' '1' '3' '9' '2' '4' '8' '5' '6']\n",
      " ['9' '6' '1' '5' '3' '7' '2' '8' '4']\n",
      " ['2' '8' '7' '4' '1' '9' '6' '3' '5']\n",
      " ['3' '4' '5' '2' '8' '6' '1' '7' '9']]\n"
     ]
    }
   ],
   "source": [
    "sudoku_solver(board)"
   ]
  },
  {
   "cell_type": "code",
   "execution_count": 443,
   "id": "062d77ea",
   "metadata": {},
   "outputs": [],
   "source": [
    "bo=[[\"5\",\"3\",\".\",\".\",\"7\",\".\",\".\",\".\",\".\"],[\"6\",\".\",\".\",\"1\",\"9\",\"5\",\".\",\".\",\".\"],[\".\",\"9\",\"8\",\".\",\".\",\".\",\".\",\"6\",\".\"],[\"8\",\".\",\".\",\".\",\"6\",\".\",\".\",\".\",\"3\"],[\"4\",\".\",\".\",\"8\",\".\",\"3\",\".\",\".\",\"1\"],[\"7\",\".\",\".\",\".\",\"2\",\".\",\".\",\".\",\"6\"],[\".\",\"6\",\".\",\".\",\".\",\".\",\"2\",\"8\",\".\"],[\".\",\".\",\".\",\"4\",\"1\",\"9\",\".\",\".\",\"5\"],[\".\",\".\",\".\",\".\",\"8\",\".\",\".\",\"7\",\"9\"]]"
   ]
  },
  {
   "cell_type": "code",
   "execution_count": 444,
   "id": "f6803765",
   "metadata": {},
   "outputs": [
    {
     "name": "stdout",
     "output_type": "stream",
     "text": [
      "Input:\n",
      " [['5', '3', '.', '.', '7', '.', '.', '.', '.'], ['6', '.', '.', '1', '9', '5', '.', '.', '.'], ['.', '9', '8', '.', '.', '.', '.', '6', '.'], ['8', '.', '.', '.', '6', '.', '.', '.', '3'], ['4', '.', '.', '8', '.', '3', '.', '.', '1'], ['7', '.', '.', '.', '2', '.', '.', '.', '6'], ['.', '6', '.', '.', '.', '.', '2', '8', '.'], ['.', '.', '.', '4', '1', '9', '.', '.', '5'], ['.', '.', '.', '.', '8', '.', '.', '7', '9']]\n",
      "\n",
      "Solved:\n",
      " [['5' '3' '4' '6' '7' '8' '9' '1' '2']\n",
      " ['6' '7' '2' '1' '9' '5' '3' '4' '8']\n",
      " ['1' '9' '8' '3' '4' '2' '5' '6' '7']\n",
      " ['8' '5' '9' '7' '6' '1' '4' '2' '3']\n",
      " ['4' '2' '6' '8' '5' '3' '7' '9' '1']\n",
      " ['7' '1' '3' '9' '2' '4' '8' '5' '6']\n",
      " ['9' '6' '1' '5' '3' '7' '2' '8' '4']\n",
      " ['2' '8' '7' '4' '1' '9' '6' '3' '5']\n",
      " ['3' '4' '5' '2' '8' '6' '1' '7' '9']]\n"
     ]
    }
   ],
   "source": [
    "sudoku_solver(bo)"
   ]
  },
  {
   "cell_type": "code",
   "execution_count": null,
   "id": "d6a3fa72",
   "metadata": {},
   "outputs": [],
   "source": []
  }
 ],
 "metadata": {
  "kernelspec": {
   "display_name": "Python 3 (ipykernel)",
   "language": "python",
   "name": "python3"
  },
  "language_info": {
   "codemirror_mode": {
    "name": "ipython",
    "version": 3
   },
   "file_extension": ".py",
   "mimetype": "text/x-python",
   "name": "python",
   "nbconvert_exporter": "python",
   "pygments_lexer": "ipython3",
   "version": "3.11.0"
  }
 },
 "nbformat": 4,
 "nbformat_minor": 5
}
